{
 "cells": [
  {
   "cell_type": "code",
   "execution_count": 1,
   "metadata": {},
   "outputs": [
    {
     "name": "stdout",
     "output_type": "stream",
     "text": [
      "Hello\n"
     ]
    }
   ],
   "source": [
    "spam = 1 \n",
    "\n",
    "if spam == 1:\n",
    "    print('Hello')\n",
    "    \n",
    "elif spam == 2:\n",
    "    print('Howdy')\n",
    "else:\n",
    "    print('Greetings!')"
   ]
  },
  {
   "cell_type": "code",
   "execution_count": 4,
   "metadata": {},
   "outputs": [
    {
     "name": "stdout",
     "output_type": "stream",
     "text": [
      "1\n",
      "2\n",
      "3\n",
      "4\n",
      "5\n",
      "6\n",
      "7\n",
      "8\n",
      "9\n",
      "10\n"
     ]
    }
   ],
   "source": [
    "for i in range(1,11):\n",
    "    print(i)"
   ]
  },
  {
   "cell_type": "code",
   "execution_count": 3,
   "metadata": {},
   "outputs": [
    {
     "name": "stdout",
     "output_type": "stream",
     "text": [
      "1\n",
      "2\n",
      "3\n",
      "4\n",
      "5\n",
      "6\n",
      "7\n",
      "8\n",
      "9\n",
      "10\n"
     ]
    }
   ],
   "source": [
    "i = 0 \n",
    "while i < 10:\n",
    "  i =  i+1\n",
    "  print(i)\n"
   ]
  },
  {
   "cell_type": "code",
   "execution_count": 6,
   "metadata": {},
   "outputs": [
    {
     "name": "stdout",
     "output_type": "stream",
     "text": [
      "I am thinking of a number between 1 and 20\n"
     ]
    }
   ],
   "source": [
    "import random\n",
    "secretNumber = random.randint(1,20)\n",
    "print('I am thinking of a number between 1 and 20')\n",
    "\n"
   ]
  },
  {
   "cell_type": "code",
   "execution_count": 10,
   "metadata": {},
   "outputs": [
    {
     "name": "stdout",
     "output_type": "stream",
     "text": [
      "take a guess\n"
     ]
    },
    {
     "name": "stdin",
     "output_type": "stream",
     "text": [
      " 18\n"
     ]
    },
    {
     "name": "stdout",
     "output_type": "stream",
     "text": [
      "Good Job! 1 guesses taken \n"
     ]
    }
   ],
   "source": [
    "for guessesTaken in range(1,7):\n",
    "    print('take a guess')\n",
    "    guess = int(input())\n",
    "    \n",
    "    if guess < secretNumber:\n",
    "        print('too low')\n",
    "    elif guess > secretNumber:\n",
    "        print('Too high')\n",
    "    else: \n",
    "        break \n",
    "if guess == secretNumber:\n",
    "    print('Good Job! ' + str(guessesTaken) + ' guesses taken ')\n",
    "else:\n",
    "    print('Nope the number was' + str(secretNumber))"
   ]
  },
  {
   "cell_type": "code",
   "execution_count": 1,
   "metadata": {},
   "outputs": [],
   "source": [
    "def collatz(number):\n",
    "    if number % 2 == 0:\n",
    "        return number // 2\n",
    "    elif number % 2 == 1:\n",
    "        return 3 * number + 1"
   ]
  },
  {
   "cell_type": "code",
   "execution_count": 11,
   "metadata": {},
   "outputs": [
    {
     "name": "stdout",
     "output_type": "stream",
     "text": [
      "Input any number you want we will reduce it to 1\n"
     ]
    },
    {
     "name": "stdin",
     "output_type": "stream",
     "text": [
      " 69\n"
     ]
    },
    {
     "name": "stdout",
     "output_type": "stream",
     "text": [
      "208\n",
      "104\n",
      "52\n",
      "26\n",
      "13\n",
      "40\n",
      "20\n",
      "10\n",
      "5\n",
      "16\n",
      "8\n",
      "4\n",
      "2\n",
      "1\n"
     ]
    }
   ],
   "source": [
    "print('Input any number you want we will reduce it to 1')\n",
    "try:\n",
    "    numberC = int(input())\n",
    "except ValueError: \n",
    "    print('Invalid Entry - Please enter a whole number')\n",
    "\n",
    "while numberC != 1:\n",
    "    numberC = collatz(numberC)\n",
    "    \n",
    "    print(numberC)"
   ]
  },
  {
   "cell_type": "code",
   "execution_count": 17,
   "metadata": {},
   "outputs": [
    {
     "name": "stdout",
     "output_type": "stream",
     "text": [
      "yes definitely\n"
     ]
    }
   ],
   "source": [
    "import random \n",
    "\n",
    "messages = ['it is certain',\n",
    "           'it is decidedly so',\n",
    "           'yes definitely',\n",
    "           'reply hazy try again',\n",
    "           'ask again later', \n",
    "           'concentrate and ask again',\n",
    "           'my reply is no',\n",
    "           'outlook not so good',\n",
    "           'very doubtful']\n",
    "print(messages[random.randint(0, len(messages) -1)])"
   ]
  },
  {
   "cell_type": "code",
   "execution_count": 19,
   "metadata": {},
   "outputs": [],
   "source": [
    "def listseperation(list):\n",
    "    \n",
    "    listitem = 'Here are the items in my list: '\n",
    "    \n",
    "    for i in list:\n",
    "        if list.index(i) < (len(spam)-1):\n",
    "            listitem = listitem + i + ', '\n",
    "        else:\n",
    "            listitem = listitem + 'and ' + i + '.'\n",
    "\n",
    "    return listitem"
   ]
  },
  {
   "cell_type": "code",
   "execution_count": 21,
   "metadata": {},
   "outputs": [],
   "source": [
    "spam = ['1', '2', '3']"
   ]
  },
  {
   "cell_type": "code",
   "execution_count": 22,
   "metadata": {},
   "outputs": [
    {
     "data": {
      "text/plain": [
       "'Here are the items in my list: 1, 2, and 3.'"
      ]
     },
     "execution_count": 22,
     "metadata": {},
     "output_type": "execute_result"
    }
   ],
   "source": [
    "listseperation(spam)"
   ]
  },
  {
   "cell_type": "code",
   "execution_count": 23,
   "metadata": {},
   "outputs": [],
   "source": [
    "grid = [['.', '.', '.', '.', '.', '.'],\n",
    "        ['.', 'O', 'O', '.', '.', '.'],\n",
    "        ['O', 'O', 'O', 'O', '.', '.'],\n",
    "        ['O', 'O', 'O', 'O', 'O', '.'],\n",
    "        ['.', 'O', 'O', 'O', 'O', 'O'],\n",
    "        ['O', 'O', 'O', 'O', 'O', '.'],\n",
    "        ['O', 'O', 'O', 'O', '.', '.'],\n",
    "        ['.', 'O', 'O', '.', '.', '.'],\n",
    "        ['.', '.', '.', '.', '.', '.']]\n"
   ]
  },
  {
   "cell_type": "code",
   "execution_count": 38,
   "metadata": {},
   "outputs": [
    {
     "name": "stdout",
     "output_type": "stream",
     "text": [
      "..OO.OO..\n",
      ".OOOOOOO.\n",
      ".OOOOOOO.\n",
      "..OOOOO..\n",
      "...OOO...\n",
      "....O....\n"
     ]
    }
   ],
   "source": [
    "for j in range(len(grid[:6])):\n",
    "    \n",
    "    #print()\n",
    "    \n",
    "    for i in range(len(grid)):\n",
    "        \n",
    "        print(grid[i][j], end='')\n",
    "        \n",
    "        \n",
    "    print()\n",
    "    "
   ]
  },
  {
   "cell_type": "code",
   "execution_count": 29,
   "metadata": {},
   "outputs": [
    {
     "name": "stdout",
     "output_type": "stream",
     "text": [
      "..OO.OO..\n",
      ".OOOOOOO.\n",
      ".OOOOOOO.\n",
      "..OOOOO..\n",
      "...OOO...\n",
      "....O....\n"
     ]
    }
   ],
   "source": [
    "# I set two global variables x and y. I will use x to iterate through \n",
    "# the while loop and y to increment the index in the inner list\n",
    "x = 0\n",
    "y = 0\n",
    "\n",
    "# set the condition for the while loop to limit it to the length of the list\n",
    "# and also to limit it to the length of the inner list which doesn't exceed index 5 \n",
    "\n",
    "while x < len(grid) and y <= 5:\n",
    "    for item in range(len(grid)):\n",
    "        print(grid[item][y], end='')\n",
    "\n",
    "    y += 1 # increment y after iteration of a for loop \n",
    "    print('') # print blank line\n",
    "    x += 1 # increment x after iteration of for loop go through for loop again"
   ]
  },
  {
   "cell_type": "code",
   "execution_count": 34,
   "metadata": {},
   "outputs": [
    {
     "name": "stdout",
     "output_type": "stream",
     "text": [
      "..OO.OO..\n",
      ".OOOOOOO.\n",
      ".OOOOOOO.\n",
      "..OOOOO..\n",
      "...OOO...\n",
      "....O....\n"
     ]
    }
   ],
   "source": []
  },
  {
   "cell_type": "markdown",
   "metadata": {},
   "source": [
    "# fantasy game inventory "
   ]
  },
  {
   "cell_type": "code",
   "execution_count": 106,
   "metadata": {},
   "outputs": [],
   "source": [
    "inventory = {'arrow': 12, 'gold coin': 42, 'rope': 1, 'torch': 6, 'dagger': 1 }"
   ]
  },
  {
   "cell_type": "code",
   "execution_count": 86,
   "metadata": {},
   "outputs": [],
   "source": [
    "import pprint\n",
    "def inventoryItems(inventory):\n",
    "    print('Inventory: ')\n",
    "    total =  0 \n",
    "    for k, v in inventory.items(): \n",
    "        items = print(v, k)\n",
    "        for i in inventory.values():\n",
    "            total +=i    \n",
    "    print('Total number of items: ' + str(total))\n",
    "    return items"
   ]
  },
  {
   "cell_type": "code",
   "execution_count": 85,
   "metadata": {},
   "outputs": [
    {
     "name": "stdout",
     "output_type": "stream",
     "text": [
      "Inventory: \n",
      "12 arrow\n",
      "42 gold coin\n",
      "1 rope\n",
      "6 torch\n",
      "1 dagger\n",
      "Total number of items: 310\n"
     ]
    }
   ],
   "source": [
    "inventoryItems(inventory)"
   ]
  },
  {
   "cell_type": "code",
   "execution_count": 100,
   "metadata": {},
   "outputs": [],
   "source": [
    "import pandas as pd\n",
    "dragonLoot = ['gold coin', 'dagger', 'gold coin', 'gold coin', 'ruby']\n",
    "\n",
    "def occur_dict(a):\n",
    "    d = {}\n",
    "    for i in a:\n",
    "        if i in d:\n",
    "            d[i] = d[i]+1\n",
    "        else:\n",
    "            d[i] = 1\n",
    "    return d"
   ]
  },
  {
   "cell_type": "code",
   "execution_count": 101,
   "metadata": {},
   "outputs": [
    {
     "data": {
      "text/plain": [
       "{'gold coin': 3, 'dagger': 1, 'ruby': 1}"
      ]
     },
     "execution_count": 101,
     "metadata": {},
     "output_type": "execute_result"
    }
   ],
   "source": [
    "occur_dict(dragonLoot)"
   ]
  },
  {
   "cell_type": "code",
   "execution_count": 104,
   "metadata": {},
   "outputs": [],
   "source": [
    "def addToInventory(inventory, addedItems):\n",
    "    d = {}\n",
    "    for i in addedItems:\n",
    "        if i in d:\n",
    "            d[i] = d[i]+1\n",
    "        else:\n",
    "            d[i] = 1\n",
    "    for k, v in inventory.items(): \n",
    "        items = print(v, k)\n",
    "    updated = inventory.update(d)\n",
    "    \n",
    "    return d"
   ]
  },
  {
   "cell_type": "code",
   "execution_count": 107,
   "metadata": {},
   "outputs": [
    {
     "data": {
      "text/plain": [
       "{'gold coin': 3, 'dagger': 1, 'ruby': 1}"
      ]
     },
     "execution_count": 107,
     "metadata": {},
     "output_type": "execute_result"
    }
   ],
   "source": [
    "addToInventory(inventory, dragonLoot)"
   ]
  },
  {
   "cell_type": "code",
   "execution_count": 110,
   "metadata": {},
   "outputs": [],
   "source": [
    "def addToinventory2(inventory, addedItems):\n",
    "    for i in range(len(addedItems)):\n",
    "        inventory.setdefault(addedItems[i], 0)\n",
    "        inventory[addedItems[i]] = inventory[addedItems[i]] + 1\n",
    "\n",
    "    return inventory\n",
    "        "
   ]
  },
  {
   "cell_type": "code",
   "execution_count": 111,
   "metadata": {},
   "outputs": [
    {
     "data": {
      "text/plain": [
       "{'arrow': 12, 'gold coin': 9, 'rope': 1, 'torch': 6, 'dagger': 3, 'ruby': 3}"
      ]
     },
     "execution_count": 111,
     "metadata": {},
     "output_type": "execute_result"
    }
   ],
   "source": [
    "addToinventory2(inventory, dragonLoot)"
   ]
  },
  {
   "cell_type": "code",
   "execution_count": 116,
   "metadata": {},
   "outputs": [],
   "source": [
    "def printPicnic(itemsDict, leftWidth, rightWidth):\n",
    "    print('PICNIC ITEMS'.center(leftWidth + rightWidth, '-'))\n",
    "    for k, v in itemsDict.items():\n",
    "        print(k.ljust(leftWidth, '.') + str(v).rjust(rightWidth))\n",
    "        \n"
   ]
  },
  {
   "cell_type": "code",
   "execution_count": 117,
   "metadata": {},
   "outputs": [
    {
     "name": "stdout",
     "output_type": "stream",
     "text": [
      "-------PICNIC ITEMS-------\n",
      "Sandwich............     4\n",
      "Apples..............     3\n",
      "Cups................     4\n",
      "Cookies.............     8\n",
      "None\n"
     ]
    }
   ],
   "source": [
    "picnicDict = {'Sandwich': 4, 'Apples': 3, 'Cups': 4, 'Cookies': 8}\n",
    "\n",
    "print(printPicnic(picnicDict, 20, 6))"
   ]
  },
  {
   "cell_type": "code",
   "execution_count": 118,
   "metadata": {},
   "outputs": [
    {
     "name": "stdout",
     "output_type": "stream",
     "text": [
      "Collecting pyperclip\n",
      "  Downloading pyperclip-1.8.0.tar.gz (16 kB)\n",
      "Building wheels for collected packages: pyperclip\n",
      "  Building wheel for pyperclip (setup.py) ... \u001b[?25ldone\n",
      "\u001b[?25h  Created wheel for pyperclip: filename=pyperclip-1.8.0-py3-none-any.whl size=8691 sha256=f49f10a7fa2b2b618a634cbc85d082759bb4cd500097b9cb2895c1bab4db0aef\n",
      "  Stored in directory: /Users/jonathanthomaswears/Library/Caches/pip/wheels/e5/5e/f7/441179ddf6ac56f36cb1d84d94f35beedd5da15986ce3d321d\n",
      "Successfully built pyperclip\n",
      "Installing collected packages: pyperclip\n",
      "Successfully installed pyperclip-1.8.0\n",
      "Note: you may need to restart the kernel to use updated packages.\n"
     ]
    }
   ],
   "source": [
    "pip install pyperclip"
   ]
  },
  {
   "cell_type": "markdown",
   "metadata": {},
   "source": [
    "# Password Locker"
   ]
  },
  {
   "cell_type": "code",
   "execution_count": 2,
   "metadata": {},
   "outputs": [
    {
     "name": "stdout",
     "output_type": "stream",
     "text": [
      "There is no account named -f\n"
     ]
    }
   ],
   "source": [
    "# shebang line to be able to run from terminal \n",
    "#! python3 \n",
    "# pw.py - An insecure password locker program \n",
    "\n",
    "PASSWORDS = {'email': 'F1111',\n",
    "            'blog': 't1222',\n",
    "            'luggage': '12345'}\n",
    "\n",
    "# Handle commandline arguments \n",
    "\n",
    "import sys, pyperclip\n",
    "\n",
    "if len(sys.argv) < 2:\n",
    "    print('Usage: python pw.py [account] - copy account password')\n",
    "    sys.exit()\n",
    "\n",
    "account = sys.argv[1] # first commandline arg is the account name\n",
    "\n",
    "if account in PASSWORDS:\n",
    "    pyperclip.copy(PASSWORDS[account])\n",
    "    print('Password for ' + account + 'copied to clipboard.')\n",
    "else:\n",
    "    print('There is no account named ' + account)"
   ]
  },
  {
   "cell_type": "code",
   "execution_count": 3,
   "metadata": {},
   "outputs": [
    {
     "data": {
      "text/plain": [
       "'-f'"
      ]
     },
     "execution_count": 3,
     "metadata": {},
     "output_type": "execute_result"
    }
   ],
   "source": [
    "account"
   ]
  },
  {
   "cell_type": "code",
   "execution_count": 4,
   "metadata": {},
   "outputs": [
    {
     "data": {
      "text/plain": [
       "'There-can-be-only-one.'"
      ]
     },
     "execution_count": 4,
     "metadata": {},
     "output_type": "execute_result"
    }
   ],
   "source": [
    "'-'.join('There can be only one.'.split())"
   ]
  },
  {
   "cell_type": "code",
   "execution_count": 22,
   "metadata": {},
   "outputs": [],
   "source": [
    "table = [['apples', 'oranges', 'cherries', 'banana',],\n",
    "             ['Alice', 'Bob','Carol', 'David'],\n",
    "             ['dogs', 'cats', 'moose', 'goose']]\n",
    "\n",
    "def tableData(Data):\n",
    "    colWidth = [0] * len(Data)\n",
    "    for j in range(len(Data[0])):\n",
    "        for i in range(len(Data)):\n",
    "            colWidth[i] = len(max(Data[i], key=len))\n",
    "            a = Data[i][j]\n",
    "            print(a.rjust(colWidth[i]), end=' ')\n",
    "        print('\\n')\n",
    "    \n"
   ]
  },
  {
   "cell_type": "code",
   "execution_count": 23,
   "metadata": {},
   "outputs": [
    {
     "name": "stdout",
     "output_type": "stream",
     "text": [
      "  apples Alice  dogs \n",
      "\n",
      " oranges   Bob  cats \n",
      "\n",
      "cherries Carol moose \n",
      "\n",
      "  banana David goose \n",
      "\n"
     ]
    }
   ],
   "source": [
    "tableData(table)"
   ]
  },
  {
   "cell_type": "code",
   "execution_count": null,
   "metadata": {},
   "outputs": [],
   "source": []
  }
 ],
 "metadata": {
  "kernelspec": {
   "display_name": "Python 3",
   "language": "python",
   "name": "python3"
  },
  "language_info": {
   "codemirror_mode": {
    "name": "ipython",
    "version": 3
   },
   "file_extension": ".py",
   "mimetype": "text/x-python",
   "name": "python",
   "nbconvert_exporter": "python",
   "pygments_lexer": "ipython3",
   "version": "3.7.3"
  }
 },
 "nbformat": 4,
 "nbformat_minor": 4
}
