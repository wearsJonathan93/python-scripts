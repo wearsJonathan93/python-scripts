{
 "cells": [
  {
   "cell_type": "code",
   "execution_count": 2,
   "metadata": {},
   "outputs": [],
   "source": [
    "import codecs\n",
    "import os\n",
    "import urllib.request\n",
    "from xml.etree import ElementTree\n",
    "\n",
    "url = 'https://trends.google.com/trends/trendingsearches/daily/rss?geo=FR'\n",
    "keywords_filename = './keywords.txt'\n",
    "tmp_filename = './keywords_tmp.xml'\n",
    "urllib.request.urlretrieve(url, tmp_filename)\n",
    "if os.path.isfile(keywords_filename):\n",
    "    with open(keywords_filename, 'r') as f:\n",
    "        old_list = f.read().splitlines()\n",
    "else:\n",
    "    old_list = []\n",
    "tree = ElementTree.parse(tmp_filename)\n",
    "root = tree.getroot()\n",
    "fresh_list = [title.text.lower()\n",
    "              for title in root.iter('title')]\n",
    "try:\n",
    "    fresh_list.remove('daily search trends')\n",
    "except ValueError:\n",
    "    pass\n",
    "output = '\\n'.join(a for a in list(set(old_list + fresh_list)))\n",
    "with codecs.open('./keywords.txt', 'w+', \"utf-8\") as f:\n",
    "    f.write(output)\n",
    "os.remove(tmp_filename)"
   ]
  },
  {
   "cell_type": "code",
   "execution_count": null,
   "metadata": {},
   "outputs": [],
   "source": []
  }
 ],
 "metadata": {
  "kernelspec": {
   "display_name": "Python 3",
   "language": "python",
   "name": "python3"
  },
  "language_info": {
   "codemirror_mode": {
    "name": "ipython",
    "version": 3
   },
   "file_extension": ".py",
   "mimetype": "text/x-python",
   "name": "python",
   "nbconvert_exporter": "python",
   "pygments_lexer": "ipython3",
   "version": "3.7.4"
  }
 },
 "nbformat": 4,
 "nbformat_minor": 4
}
